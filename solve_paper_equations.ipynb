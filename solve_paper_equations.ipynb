{
 "cells": [
  {
   "cell_type": "code",
   "execution_count": 4,
   "metadata": {},
   "outputs": [
    {
     "ename": "AttributeError",
     "evalue": "module 'Paper_equations' has no attribute 'paper_differential_equations'",
     "output_type": "error",
     "traceback": [
      "\u001b[1;31m---------------------------------------------------------------------------\u001b[0m",
      "\u001b[1;31mAttributeError\u001b[0m                            Traceback (most recent call last)",
      "Cell \u001b[1;32mIn[4], line 23\u001b[0m\n\u001b[0;32m     20\u001b[0m q_0 \u001b[38;5;241m=\u001b[39m \u001b[38;5;241m1.1\u001b[39m\n\u001b[0;32m     22\u001b[0m \u001b[38;5;66;03m# Solve the differential equations\u001b[39;00m\n\u001b[1;32m---> 23\u001b[0m t_values, y_values \u001b[38;5;241m=\u001b[39m Paper_equations\u001b[38;5;241m.\u001b[39msolve_runge_kutta4(\u001b[43mPaper_equations\u001b[49m\u001b[38;5;241;43m.\u001b[39;49m\u001b[43mpaper_differential_equations\u001b[49m, t0, y0, tf, h, m, q_0)\n\u001b[0;32m     25\u001b[0m J_values \u001b[38;5;241m=\u001b[39m y_values[:, \u001b[38;5;241m0\u001b[39m]\n\u001b[0;32m     26\u001b[0m psi_values \u001b[38;5;241m=\u001b[39m y_values[:, \u001b[38;5;241m1\u001b[39m] \n",
      "\u001b[1;31mAttributeError\u001b[0m: module 'Paper_equations' has no attribute 'paper_differential_equations'"
     ]
    }
   ],
   "source": [
    "import numpy as np\n",
    "import matplotlib.pyplot as plt\n",
    "import Paper_equations\n",
    "import importlib\n",
    "\n",
    "# import library with equations\n",
    "importlib.reload(Paper_equations)\n",
    "\n",
    "# Initial conditions\n",
    "t0 = 0\n",
    "initial_J = 2\n",
    "initial_psi = 1\n",
    "initial_J = initial_J*(1-(2*initial_psi)**(1/2))\n",
    "initial_theta = 0\n",
    "\n",
    "y0 = np.array([initial_J, initial_psi, initial_J, initial_theta])  # Replace initial_J, initial_psi, initial_J, initial_theta with your initial values\n",
    "tf = 100  # Final time\n",
    "h = 0.01  # Step size\n",
    "m = 1  # Example value for m\n",
    "q_0 = 1.1\n",
    "\n",
    "# Solve the differential equations\n",
    "t_values, y_values = Paper_equations.solve_runge_kutta4(Paper_equations.paper_differential_equations, t0, y0, tf, h, m, q_0)\n",
    "\n",
    "J_values = y_values[:, 0]\n",
    "psi_values = y_values[:, 1] \n",
    "J_values = y_values[:, 2]\n",
    "theta_values = y_values[:, 3]\n",
    "\n",
    "\n",
    "plt.plot(theta_values, psi_values)\n",
    "plt.grid(True)\n",
    "plt.show()"
   ]
  }
 ],
 "metadata": {
  "kernelspec": {
   "display_name": "Python 3",
   "language": "python",
   "name": "python3"
  },
  "language_info": {
   "codemirror_mode": {
    "name": "ipython",
    "version": 3
   },
   "file_extension": ".py",
   "mimetype": "text/x-python",
   "name": "python",
   "nbconvert_exporter": "python",
   "pygments_lexer": "ipython3",
   "version": "3.12.2"
  }
 },
 "nbformat": 4,
 "nbformat_minor": 2
}
